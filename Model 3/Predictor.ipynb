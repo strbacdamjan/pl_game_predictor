{
 "cells": [
  {
   "cell_type": "code",
   "execution_count": 19,
   "metadata": {},
   "outputs": [],
   "source": [
    "import lightgbm as lgb\n",
    "import optuna as opt\n",
    "import pandas as pd\n",
    "from sklearn.preprocessing import StandardScaler\n",
    "from sklearn.metrics import accuracy_score, precision_score, recall_score, f1_score"
   ]
  },
  {
   "cell_type": "code",
   "execution_count": 12,
   "metadata": {},
   "outputs": [],
   "source": [
    "match_data = pd.read_csv('fbref_prem_data.csv')"
   ]
  },
  {
   "cell_type": "code",
   "execution_count": 13,
   "metadata": {},
   "outputs": [],
   "source": [
    "train_data = match_data[match_data['Date'] < \"2023-01-01\"]\n",
    "test_data = match_data[match_data['Date'] >= \"2023-01-01\"]"
   ]
  },
  {
   "cell_type": "code",
   "execution_count": 16,
   "metadata": {},
   "outputs": [],
   "source": [
    "predictors = ['Team_Code', 'Opp_Code', 'Venue_Code', 'GF_rolling', 'GA_rolling', 'Poss_rolling', 'xG_rolling',\n",
    "       'xGA_rolling', 'Sh_rolling', 'SoT_rolling', 'Dist_rolling',\n",
    "       'SoTA_rolling', 'Cmp_rolling', 'Att_rolling', 'TotDist_rolling',\n",
    "       'PrgDist_rolling', 'SCA_rolling', 'GCA_rolling']\n"
   ]
  },
  {
   "cell_type": "code",
   "execution_count": 17,
   "metadata": {},
   "outputs": [
    {
     "name": "stderr",
     "output_type": "stream",
     "text": [
      "/var/folders/14/7g5dmrxj7lxbz8__3gfs4lfr0000gn/T/ipykernel_11547/306688420.py:2: SettingWithCopyWarning: \n",
      "A value is trying to be set on a copy of a slice from a DataFrame.\n",
      "Try using .loc[row_indexer,col_indexer] = value instead\n",
      "\n",
      "See the caveats in the documentation: https://pandas.pydata.org/pandas-docs/stable/user_guide/indexing.html#returning-a-view-versus-a-copy\n",
      "  train_data[predictors] = scaler.fit_transform(train_data[predictors])\n"
     ]
    }
   ],
   "source": [
    "scaler = StandardScaler(with_mean=False)\n",
    "train_data[predictors] = scaler.fit_transform(train_data[predictors])"
   ]
  },
  {
   "cell_type": "code",
   "execution_count": 24,
   "metadata": {},
   "outputs": [],
   "source": [
    "def objective(trial):\n",
    "    param = {\n",
    "        \"objective\": \"multiclass\",\n",
    "        \"metric\": \"multi_logloss\",\n",
    "        \"verbosity\": -1,\n",
    "        \"boosting_type\": \"gbdt\",\n",
    "        \"lambda_l1\": trial.suggest_float(\"lambda_l1\", 1e-8, 10.0, log=True),\n",
    "        \"lambda_l2\": trial.suggest_float(\"lambda_l2\", 1e-8, 10.0, log=True),\n",
    "        \"learning_rate\": trial.suggest_float(\"learning_rate\", 1e-8, 1e-1, log=True),\n",
    "        \"num_leaves\": trial.suggest_int(\"num_leaves\", 2, 256),\n",
    "        \"feature_fraction\": trial.suggest_float(\"feature_fraction\", 0.4, 1.0),\n",
    "        \"bagging_fraction\": trial.suggest_float(\"bagging_fraction\", 0.4, 1.0),\n",
    "        \"bagging_freq\": trial.suggest_int(\"bagging_freq\", 1, 7),\n",
    "        \"min_child_samples\": trial.suggest_int(\"min_child_samples\", 5, 100),\n",
    "    }\n",
    "\n",
    "\n",
    "    model = lgb.LGBMClassifier(**param)\n",
    "    model.fit(train_data[predictors], train_data['Target'])\n",
    "    predictions = model.predict(test_data[predictors])\n",
    "    f1 = f1_score(test_data['Target'], predictions, average='weighted')\n",
    "\n",
    "    return f1\n",
    "\n"
   ]
  },
  {
   "cell_type": "code",
   "execution_count": 25,
   "metadata": {},
   "outputs": [
    {
     "name": "stderr",
     "output_type": "stream",
     "text": [
      "[I 2024-10-01 11:24:45,101] A new study created in memory with name: no-name-1e976fd1-3cdb-45d2-a0cf-7ef333cee71a\n",
      "[I 2024-10-01 11:24:46,258] Trial 0 finished with value: 0.21491628099802865 and parameters: {'lambda_l1': 0.5672617759531154, 'lambda_l2': 1.3884574763960698, 'learning_rate': 0.013173919817441627, 'num_leaves': 40, 'feature_fraction': 0.9389049915430647, 'bagging_fraction': 0.922806205509885, 'bagging_freq': 6, 'min_child_samples': 17}. Best is trial 0 with value: 0.21491628099802865.\n",
      "[I 2024-10-01 11:24:47,159] Trial 1 finished with value: 0.21491628099802865 and parameters: {'lambda_l1': 1.619773725779366e-07, 'lambda_l2': 1.9702922135771813e-05, 'learning_rate': 0.0017325922047733574, 'num_leaves': 217, 'feature_fraction': 0.6176719784471181, 'bagging_fraction': 0.924462701466454, 'bagging_freq': 6, 'min_child_samples': 74}. Best is trial 0 with value: 0.21491628099802865.\n",
      "[I 2024-10-01 11:24:47,669] Trial 2 finished with value: 0.21491628099802865 and parameters: {'lambda_l1': 0.01557679099088389, 'lambda_l2': 0.005479338416337202, 'learning_rate': 0.0002047544308485498, 'num_leaves': 20, 'feature_fraction': 0.43078789051592176, 'bagging_fraction': 0.563174584534305, 'bagging_freq': 1, 'min_child_samples': 10}. Best is trial 0 with value: 0.21491628099802865.\n",
      "[I 2024-10-01 11:24:48,150] Trial 3 finished with value: 0.21491628099802865 and parameters: {'lambda_l1': 6.255375753047136e-08, 'lambda_l2': 0.004842207216054332, 'learning_rate': 3.673974045567356e-06, 'num_leaves': 18, 'feature_fraction': 0.5411121704870155, 'bagging_fraction': 0.9209181451431828, 'bagging_freq': 4, 'min_child_samples': 33}. Best is trial 0 with value: 0.21491628099802865.\n",
      "[I 2024-10-01 11:24:48,742] Trial 4 finished with value: 0.21491628099802865 and parameters: {'lambda_l1': 5.764078211375635, 'lambda_l2': 9.032591112613881e-07, 'learning_rate': 2.084784994063842e-05, 'num_leaves': 216, 'feature_fraction': 0.4907732944871715, 'bagging_fraction': 0.6881517238701389, 'bagging_freq': 6, 'min_child_samples': 44}. Best is trial 0 with value: 0.21491628099802865.\n",
      "[I 2024-10-01 11:24:51,013] Trial 5 finished with value: 0.21491628099802865 and parameters: {'lambda_l1': 1.1343610554483304e-05, 'lambda_l2': 0.0001022195895793199, 'learning_rate': 2.138174323362373e-05, 'num_leaves': 121, 'feature_fraction': 0.5730012631871374, 'bagging_fraction': 0.9332511464952348, 'bagging_freq': 4, 'min_child_samples': 26}. Best is trial 0 with value: 0.21491628099802865.\n",
      "[I 2024-10-01 11:24:51,825] Trial 6 finished with value: 0.21491628099802865 and parameters: {'lambda_l1': 0.9187119369824767, 'lambda_l2': 3.583497172558715e-07, 'learning_rate': 0.027215948099408322, 'num_leaves': 171, 'feature_fraction': 0.7128618841683096, 'bagging_fraction': 0.7100965662254343, 'bagging_freq': 5, 'min_child_samples': 61}. Best is trial 0 with value: 0.21491628099802865.\n",
      "[I 2024-10-01 11:24:52,383] Trial 7 finished with value: 0.21491628099802865 and parameters: {'lambda_l1': 5.348830789260919e-08, 'lambda_l2': 6.303912050250168e-07, 'learning_rate': 8.594093158309185e-07, 'num_leaves': 112, 'feature_fraction': 0.8158490353843924, 'bagging_fraction': 0.5266894109103585, 'bagging_freq': 7, 'min_child_samples': 67}. Best is trial 0 with value: 0.21491628099802865.\n",
      "[I 2024-10-01 11:24:52,920] Trial 8 finished with value: 0.21491628099802865 and parameters: {'lambda_l1': 8.462572835965325e-05, 'lambda_l2': 0.0005621478873509196, 'learning_rate': 5.791869313748414e-07, 'num_leaves': 23, 'feature_fraction': 0.46384500256606936, 'bagging_fraction': 0.6635768581957154, 'bagging_freq': 4, 'min_child_samples': 47}. Best is trial 0 with value: 0.21491628099802865.\n",
      "[I 2024-10-01 11:24:53,469] Trial 9 finished with value: 0.21491628099802865 and parameters: {'lambda_l1': 2.324743255115308e-08, 'lambda_l2': 0.033403502833794924, 'learning_rate': 0.001488362982046754, 'num_leaves': 46, 'feature_fraction': 0.9648194970591792, 'bagging_fraction': 0.733263764822661, 'bagging_freq': 1, 'min_child_samples': 98}. Best is trial 0 with value: 0.21491628099802865.\n",
      "[I 2024-10-01 11:24:55,745] Trial 10 finished with value: 0.21771366342974663 and parameters: {'lambda_l1': 0.01749690380134598, 'lambda_l2': 3.6859699638898213, 'learning_rate': 1.5170819397093383e-08, 'num_leaves': 85, 'feature_fraction': 0.9919298790670585, 'bagging_fraction': 0.8242928819154787, 'bagging_freq': 3, 'min_child_samples': 6}. Best is trial 10 with value: 0.21771366342974663.\n",
      "[I 2024-10-01 11:24:57,707] Trial 11 finished with value: 0.21491628099802865 and parameters: {'lambda_l1': 0.021466588354589557, 'lambda_l2': 7.902991532641523, 'learning_rate': 2.43974083362796e-08, 'num_leaves': 79, 'feature_fraction': 0.9829288311665101, 'bagging_fraction': 0.8188705599715722, 'bagging_freq': 2, 'min_child_samples': 12}. Best is trial 10 with value: 0.21771366342974663.\n",
      "[I 2024-10-01 11:24:59,603] Trial 12 finished with value: 0.21496492040314827 and parameters: {'lambda_l1': 0.039463190109992545, 'lambda_l2': 7.159766719279608, 'learning_rate': 0.09762786304838435, 'num_leaves': 72, 'feature_fraction': 0.8671524365829963, 'bagging_fraction': 0.8164740635710176, 'bagging_freq': 3, 'min_child_samples': 9}. Best is trial 10 with value: 0.21771366342974663.\n",
      "[I 2024-10-01 11:25:01,905] Trial 13 finished with value: 0.21460842799783628 and parameters: {'lambda_l1': 0.0051123745327055995, 'lambda_l2': 0.14434084975991782, 'learning_rate': 1.2786643631331847e-08, 'num_leaves': 91, 'feature_fraction': 0.8494577700878331, 'bagging_fraction': 0.8047137893720806, 'bagging_freq': 3, 'min_child_samples': 6}. Best is trial 10 with value: 0.21771366342974663.\n",
      "[I 2024-10-01 11:25:02,879] Trial 14 finished with value: 0.24078703113646974 and parameters: {'lambda_l1': 0.0002514321198042931, 'lambda_l2': 0.5790971423419532, 'learning_rate': 0.09056918986587408, 'num_leaves': 157, 'feature_fraction': 0.8599375500165466, 'bagging_fraction': 0.4270692011312169, 'bagging_freq': 3, 'min_child_samples': 31}. Best is trial 14 with value: 0.24078703113646974.\n",
      "[I 2024-10-01 11:25:03,904] Trial 15 finished with value: 0.21491628099802865 and parameters: {'lambda_l1': 0.0004720082690625224, 'lambda_l2': 0.2997345006223914, 'learning_rate': 1.659957353188256e-07, 'num_leaves': 162, 'feature_fraction': 0.7570808296843181, 'bagging_fraction': 0.4539840362141626, 'bagging_freq': 2, 'min_child_samples': 30}. Best is trial 14 with value: 0.24078703113646974.\n",
      "[I 2024-10-01 11:25:05,209] Trial 16 finished with value: 0.21491628099802865 and parameters: {'lambda_l1': 1.6412013291682486e-06, 'lambda_l2': 0.8825208934202419, 'learning_rate': 0.0003278115602083221, 'num_leaves': 175, 'feature_fraction': 0.9077314256855339, 'bagging_fraction': 0.44178394550832883, 'bagging_freq': 3, 'min_child_samples': 22}. Best is trial 14 with value: 0.24078703113646974.\n",
      "[I 2024-10-01 11:25:06,269] Trial 17 finished with value: 0.21491628099802865 and parameters: {'lambda_l1': 0.0007389548643224718, 'lambda_l2': 1.5011360545354695e-08, 'learning_rate': 7.29416390442949e-08, 'num_leaves': 148, 'feature_fraction': 0.7846793968171573, 'bagging_fraction': 0.5853963791313092, 'bagging_freq': 2, 'min_child_samples': 37}. Best is trial 14 with value: 0.24078703113646974.\n",
      "[I 2024-10-01 11:25:06,821] Trial 18 finished with value: 0.21491628099802865 and parameters: {'lambda_l1': 3.185850926235447e-05, 'lambda_l2': 0.03079223454134633, 'learning_rate': 2.7151602589247507e-06, 'num_leaves': 254, 'feature_fraction': 0.9950822043341995, 'bagging_fraction': 0.6176910099796615, 'bagging_freq': 5, 'min_child_samples': 86}. Best is trial 14 with value: 0.24078703113646974.\n",
      "[I 2024-10-01 11:25:08,074] Trial 19 finished with value: 0.21491628099802865 and parameters: {'lambda_l1': 0.0024507791204664074, 'lambda_l2': 0.0017000492012424525, 'learning_rate': 0.0025063457110734775, 'num_leaves': 140, 'feature_fraction': 0.8915017436987673, 'bagging_fraction': 0.9965601837673964, 'bagging_freq': 3, 'min_child_samples': 56}. Best is trial 14 with value: 0.24078703113646974.\n"
     ]
    }
   ],
   "source": [
    "study = opt.create_study(direction='maximize')\n",
    "study.optimize(objective, n_trials=20)"
   ]
  },
  {
   "cell_type": "code",
   "execution_count": 26,
   "metadata": {},
   "outputs": [],
   "source": [
    "best_params = {\n",
    "    \"objective\": \"multiclass\",\n",
    "    \"metric\": \"multi_logloss\",\n",
    "    \"verbosity\": -1,\n",
    "    \"boosting_type\": \"gbdt\",\n",
    "    \"num_class\": 103,\n",
    "    \"lambda_l1\": study.best_params[\"lambda_l1\"],\n",
    "    \"lambda_l2\": study.best_params[\"lambda_l2\"],\n",
    "    \"learning_rate\": study.best_params[\"learning_rate\"],\n",
    "    \"num_leaves\": study.best_params[\"num_leaves\"],\n",
    "    \"feature_fraction\": study.best_params[\"feature_fraction\"],\n",
    "    \"bagging_fraction\": study.best_params[\"bagging_fraction\"],\n",
    "    \"bagging_freq\": study.best_params[\"bagging_freq\"],\n",
    "    \"min_child_samples\": study.best_params[\"min_child_samples\"],\n",
    "}"
   ]
  },
  {
   "cell_type": "code",
   "execution_count": 28,
   "metadata": {},
   "outputs": [],
   "source": [
    "final_model = lgb.LGBMClassifier(**best_params)\n",
    "final_model.fit(train_data[predictors], train_data['Target'])\n",
    "predictions = final_model.predict(test_data[predictors])"
   ]
  },
  {
   "cell_type": "code",
   "execution_count": 29,
   "metadata": {},
   "outputs": [],
   "source": [
    "accuracy = accuracy_score(test_data['Target'], predictions)\n",
    "precision = precision_score(test_data['Target'], predictions, average='weighted')\n",
    "recall = recall_score(test_data['Target'], predictions, average='weighted')\n",
    "f1 = f1_score(test_data['Target'], predictions, average='weighted')"
   ]
  },
  {
   "cell_type": "code",
   "execution_count": 30,
   "metadata": {},
   "outputs": [
    {
     "name": "stdout",
     "output_type": "stream",
     "text": [
      "Accuracy: 0.3943338437978561\n",
      "Precision: 0.4473122541512776\n",
      "Recall: 0.3943338437978561\n",
      "F1: 0.24078703113646974\n"
     ]
    }
   ],
   "source": [
    "print(f\"Accuracy: {accuracy}\")\n",
    "print(f\"Precision: {precision}\")\n",
    "print(f\"Recall: {recall}\")\n",
    "print(f\"F1: {f1}\")"
   ]
  }
 ],
 "metadata": {
  "kernelspec": {
   "display_name": "Python 3",
   "language": "python",
   "name": "python3"
  },
  "language_info": {
   "codemirror_mode": {
    "name": "ipython",
    "version": 3
   },
   "file_extension": ".py",
   "mimetype": "text/x-python",
   "name": "python",
   "nbconvert_exporter": "python",
   "pygments_lexer": "ipython3",
   "version": "3.12.2"
  }
 },
 "nbformat": 4,
 "nbformat_minor": 2
}
