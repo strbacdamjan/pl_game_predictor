{
 "cells": [
  {
   "cell_type": "code",
   "execution_count": 1,
   "metadata": {},
   "outputs": [],
   "source": [
    "import pandas as pd"
   ]
  },
  {
   "cell_type": "code",
   "execution_count": 4,
   "metadata": {},
   "outputs": [],
   "source": [
    "#Merge all season data into one big dataframe\n",
    "season_data_2017_2018 = pd.read_csv('season_data_2017_2018.csv')\n",
    "season_data_2018_2019 = pd.read_csv('season_data_2018_2019.csv')\n",
    "season_data_2019_2020 = pd.read_csv('season_data_2019_2020.csv')\n",
    "season_data_2020_2021 = pd.read_csv('season_data_2020_2021.csv')\n",
    "season_data_2021_2022 = pd.read_csv('season_data_2021_2022.csv')\n",
    "season_data_2022_2023 = pd.read_csv('season_data_2022_2023.csv')\n",
    "season_data_2023_2024 = pd.read_csv('season_data_2023_2024.csv')\n",
    "season_data_2024_2025 = pd.read_csv('season_data_2024_2025.csv')\n",
    "\n"
   ]
  },
  {
   "cell_type": "code",
   "execution_count": 5,
   "metadata": {},
   "outputs": [],
   "source": [
    "frames = [season_data_2017_2018, season_data_2018_2019, season_data_2019_2020, season_data_2020_2021, season_data_2021_2022, season_data_2022_2023, season_data_2023_2024, season_data_2024_2025]"
   ]
  },
  {
   "cell_type": "code",
   "execution_count": 6,
   "metadata": {},
   "outputs": [],
   "source": [
    "complete_data = pd.concat(frames)"
   ]
  },
  {
   "cell_type": "code",
   "execution_count": 19,
   "metadata": {},
   "outputs": [],
   "source": [
    "complete_data.to_csv('complete_data.csv', index=False)"
   ]
  },
  {
   "cell_type": "code",
   "execution_count": 14,
   "metadata": {},
   "outputs": [],
   "source": [
    "complete_data[\"Date\"] = pd.to_datetime(complete_data[\"Date\"])"
   ]
  },
  {
   "cell_type": "code",
   "execution_count": 16,
   "metadata": {},
   "outputs": [],
   "source": [
    "complete_data[\"Venue_Code\"] = complete_data[\"Venue\"].astype('category').cat.codes"
   ]
  },
  {
   "cell_type": "code",
   "execution_count": 17,
   "metadata": {},
   "outputs": [],
   "source": [
    "complete_data[\"Opp_Code\"] = complete_data[\"Opponent\"].astype('category').cat.codes"
   ]
  },
  {
   "cell_type": "code",
   "execution_count": 20,
   "metadata": {},
   "outputs": [],
   "source": [
    "complete_data.index = range(complete_data.shape[0])"
   ]
  },
  {
   "cell_type": "code",
   "execution_count": 22,
   "metadata": {},
   "outputs": [],
   "source": [
    "complete_data[\"Target\"] = complete_data[\"Result\"].astype('category').cat.codes"
   ]
  },
  {
   "cell_type": "code",
   "execution_count": 26,
   "metadata": {},
   "outputs": [
    {
     "data": {
      "text/plain": [
       "Index(['Date', 'Time', 'Comp', 'Round', 'Day', 'Venue', 'Result', 'GF', 'GA',\n",
       "       'Opponent', 'xG', 'xGA', 'Poss', 'Attendance', 'Captain', 'Formation',\n",
       "       'Opp Formation', 'Referee', 'Team', 'Sh', 'SoT', 'Dist', 'SoTA', 'Cmp',\n",
       "       'Att', 'TotDist', 'PrgDist', 'SCA', 'GCA', 'Venue_Code', 'Opp_Code',\n",
       "       'Target'],\n",
       "      dtype='object')"
      ]
     },
     "execution_count": 26,
     "metadata": {},
     "output_type": "execute_result"
    }
   ],
   "source": [
    "complete_data.columns"
   ]
  },
  {
   "cell_type": "code",
   "execution_count": 27,
   "metadata": {},
   "outputs": [],
   "source": [
    "#calculate the rolling average of the last 5 games\n",
    "cols = ['GF', 'GA', 'Poss', 'xG', 'xGA', 'Sh', 'SoT', 'Dist', 'SoTA', 'Cmp',\n",
    "       'Att', 'TotDist', 'PrgDist', 'SCA', 'GCA']\n",
    "new_cols = [col + '_rolling' for col in cols]"
   ]
  },
  {
   "cell_type": "code",
   "execution_count": 39,
   "metadata": {},
   "outputs": [],
   "source": [
    "def calculate_rolling_average(data, cols):\n",
    "    for col in cols:\n",
    "        data[col + '_rolling'] = data[col].rolling(window=5, min_periods=1, closed = 'left').mean()"
   ]
  },
  {
   "cell_type": "code",
   "execution_count": 40,
   "metadata": {},
   "outputs": [],
   "source": [
    "calculate_rolling_average(complete_data, cols)"
   ]
  },
  {
   "cell_type": "code",
   "execution_count": 42,
   "metadata": {},
   "outputs": [],
   "source": [
    "complete_data[\"Simple Target\"] = (complete_data[\"Result\"] == \"W\").astype(\"int\")"
   ]
  },
  {
   "cell_type": "code",
   "execution_count": null,
   "metadata": {},
   "outputs": [],
   "source": [
    "complete_data[\"Team_Code\"] = complete_data[\"Team\"].astype('category').cat.codes"
   ]
  },
  {
   "cell_type": "code",
   "execution_count": 43,
   "metadata": {},
   "outputs": [],
   "source": [
    "complete_data.to_csv('fbref_prem_data.csv', index=False)"
   ]
  },
  {
   "cell_type": "code",
   "execution_count": null,
   "metadata": {},
   "outputs": [],
   "source": []
  }
 ],
 "metadata": {
  "kernelspec": {
   "display_name": "Python 3",
   "language": "python",
   "name": "python3"
  },
  "language_info": {
   "codemirror_mode": {
    "name": "ipython",
    "version": 3
   },
   "file_extension": ".py",
   "mimetype": "text/x-python",
   "name": "python",
   "nbconvert_exporter": "python",
   "pygments_lexer": "ipython3",
   "version": "3.12.2"
  }
 },
 "nbformat": 4,
 "nbformat_minor": 2
}
